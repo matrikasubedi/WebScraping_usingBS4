{
 "cells": [
  {
   "cell_type": "code",
   "execution_count": null,
   "metadata": {},
   "outputs": [],
   "source": [
    "#Reference video https://www.youtube.com/watch?v=uErL6gJPN6U&t=2020s\n",
    "#import important libraries for web scraping\n",
    "from bs4 import BeautifulSoup as soup\n",
    "import urllib.request as urlrq\n",
    "import certifi\n",
    "import ssl\n",
    "import pandas as pd\n",
    "import re\n",
    "import numpy as np\n",
    "import matplotlib.pyplot as plt"
   ]
  },
  {
   "cell_type": "code",
   "execution_count": null,
   "metadata": {},
   "outputs": [],
   "source": [
    "resp = urlrq.urlopen(\"https://www.flipkart.com/q/best-laptops-under-rs-50000\", context=ssl.create_default_context(cafile=certifi.where()))"
   ]
  },
  {
   "cell_type": "code",
   "execution_count": null,
   "metadata": {},
   "outputs": [],
   "source": [
    "first_page = resp.read()\n",
    "print(first_page)"
   ]
  },
  {
   "cell_type": "code",
   "execution_count": null,
   "metadata": {},
   "outputs": [],
   "source": [
    "first_page_soup = soup(first_page)"
   ]
  },
  {
   "cell_type": "code",
   "execution_count": null,
   "metadata": {},
   "outputs": [],
   "source": [
    "pages_link = first_page_soup.findAll('a',{'class':'ge-49M'})#optional because we are taking all again below so not needed.\n",
    "page_link = 'https://www.flipkart.com/q/best-laptops-under-rs-50000?page='\n",
    "\n",
    "f = open('new_laptops_info.csv','wb')\n",
    "f.write('ProductName,Stars,Ratings,Reviews,CurrentPrice,MRP,Processor,RAM,Storage,ImageURL\\n'.encode())\n",
    "\n",
    "for i in range(1,36):\n",
    "    link = page_link + str(i)\n",
    "    http = urlrq.urlopen(link, context=ssl.create_default_context(cafile=certifi.where()))\n",
    "    page_data = http.read()\n",
    "    soupdata = soup(page_data)\n",
    "    containers = soupdata.findAll('div',{'class':'_2kHMtA'})\n",
    "    for container in containers:\n",
    "        #Finding product name\n",
    "        product = container.find('div',{'class':'_4rR01T'})\n",
    "        ProductName = product.text.split('-')[0].strip()\n",
    "\n",
    "        #finding stars\n",
    "        stars = container.find('div',{'class':'_3LWZlK'})\n",
    "        try:\n",
    "            Stars = stars.text\n",
    "        except:\n",
    "            Stars = 0\n",
    "\n",
    "        #finding ratings and reviews\n",
    "        Rating = container.find('span',{'class':'_2_R_DZ'})\n",
    "        try:\n",
    "            ratRev = re.findall('\\d+,?\\d*',Rating.text)\n",
    "            Ratings = ratRev[0].replace(',','')\n",
    "            Reviews = ratRev[1].replace(',','')\n",
    "        except:\n",
    "            Ratings = 0\n",
    "            Reviews = 0\n",
    "\n",
    "        #finding current price\n",
    "        CurrentPrice = container.find('div',{'class':'_30jeq3 _1_WHN1'}).text.replace(',','').replace('₹','')\n",
    "\n",
    "        #finding MRP\n",
    "        mrp = container.find('div',{'class':'_3I9_wc _27UcVY'})\n",
    "        try:\n",
    "            MRP = mrp.text.replace(',','').replace('₹','')\n",
    "        except:\n",
    "            MRP = 0\n",
    "\n",
    "        #finding information about the product\n",
    "        info = container.findAll('li',{'class':'rgWa7D'})\n",
    "        Processor = info[0].text\n",
    "        RAM = info[1].text\n",
    "        Storage = info[3].text\n",
    "\n",
    "        # finding image\n",
    "        Image = container.img\n",
    "        ImageURL = Image.get('src')\n",
    "\n",
    "        print(ProductName,Stars,Ratings,Reviews,CurrentPrice,MRP,Processor,RAM,Storage,ImageURL)\n",
    "        f.write(f\"{ProductName},{Stars},{Ratings},{Reviews},{CurrentPrice},{MRP},{Processor},{RAM},{Storage},{ImageURL}\\n\".encode())\n",
    "        print('\\n')\n",
    "f.close()"
   ]
  },
  {
   "cell_type": "code",
   "execution_count": null,
   "metadata": {},
   "outputs": [],
   "source": [
    "df = pd.read_csv('new_laptops_info.csv',error_bad_lines=False)\n",
    "df"
   ]
  },
  {
   "cell_type": "code",
   "execution_count": null,
   "metadata": {},
   "outputs": [],
   "source": [
    "df.info()"
   ]
  },
  {
   "cell_type": "markdown",
   "metadata": {},
   "source": [
    "### Product having highest rating"
   ]
  },
  {
   "cell_type": "code",
   "execution_count": null,
   "metadata": {},
   "outputs": [],
   "source": [
    "row_index = np.where(df['Ratings']==max(df['Ratings']))\n",
    "df.iloc[row_index]"
   ]
  },
  {
   "cell_type": "code",
   "execution_count": null,
   "metadata": {},
   "outputs": [],
   "source": [
    "top5 = df.sort_values(by=['Ratings'],ascending=False).head()"
   ]
  },
  {
   "cell_type": "code",
   "execution_count": null,
   "metadata": {},
   "outputs": [],
   "source": [
    "plt.figure(figsize=(15,7))\n",
    "plt.bar(x=top5['ProductName'],height=top5['Ratings'])\n",
    "plt.title(\"Highest 5 Ratings Laptops\",fontsize=30)\n",
    "plt.xlabel(\"Laptops Names\",fontsize=15)\n",
    "plt.ylabel(\"Total Ratings\",fontsize=15)\n",
    "plt.xticks(rotation= 90)\n",
    "plt.show"
   ]
  },
  {
   "cell_type": "code",
   "execution_count": null,
   "metadata": {},
   "outputs": [],
   "source": []
  }
 ],
 "metadata": {
  "kernelspec": {
   "display_name": "Python 3",
   "language": "python",
   "name": "python3"
  },
  "language_info": {
   "codemirror_mode": {
    "name": "ipython",
    "version": 3
   },
   "file_extension": ".py",
   "mimetype": "text/x-python",
   "name": "python",
   "nbconvert_exporter": "python",
   "pygments_lexer": "ipython3",
   "version": "3.7.4"
  }
 },
 "nbformat": 4,
 "nbformat_minor": 2
}
